{
 "cells": [
  {
   "cell_type": "markdown",
   "id": "41f69a9a",
   "metadata": {},
   "source": [
    "# Advent of Code Day 3"
   ]
  },
  {
   "cell_type": "markdown",
   "id": "d8323ed2",
   "metadata": {},
   "source": [
    "--- Day 3: Rucksack Reorganization ---\n",
    "\n",
    "One Elf has the important job of loading all of the rucksacks with supplies for the jungle journey. Unfortunately, that Elf didn't quite follow the packing instructions, and so a few items now need to be rearranged.\n",
    "\n",
    "Each rucksack has two large compartments. All items of a given type are meant to go into exactly one of the two compartments. The Elf that did the packing failed to follow this rule for exactly one item type per rucksack.\n",
    "\n",
    "The Elves have made a list of all of the items currently in each rucksack (your puzzle input), but they need your help finding the errors. Every item type is identified by a single lowercase or uppercase letter (that is, a and A refer to different types of items).\n",
    "\n",
    "The list of items for each rucksack is given as characters all on a single line. A given rucksack always has the same number of items in each of its two compartments, so the first half of the characters represent items in the first compartment, while the second half of the characters represent items in the second compartment.\n",
    "\n",
    "For example, suppose you have the following list of contents from six rucksacks:\n",
    "\n",
    "    vJrwpWtwJgWrhcsFMMfFFhFp\n",
    "    jqHRNqRjqzjGDLGLrsFMfFZSrLrFZsSL\n",
    "    PmmdzqPrVvPwwTWBwg\n",
    "    wMqvLMZHhHMvwLHjbvcjnnSBnvTQFn\n",
    "    ttgJtRGJQctTZtZT\n",
    "    CrZsJsPPZsGzwwsLwLmpwMDw\n",
    "    \n",
    "- The first rucksack contains the items vJrwpWtwJgWrhcsFMMfFFhFp, which means its first compartment contains the items vJrwpWtwJgWr, while the second compartment contains the items hcsFMMfFFhFp. The only item type that appears in both compartments is lowercase p.\n",
    "\n",
    "- The second rucksack's compartments contain jqHRNqRjqzjGDLGL and rsFMfFZSrLrFZsSL. The only item type that appears in both compartments is uppercase L.\n",
    "\n",
    "- The third rucksack's compartments contain PmmdzqPrV and vPwwTWBwg; the only common item type is uppercase P.\n",
    "\n",
    "- The fourth rucksack's compartments only share item type v.\n",
    "\n",
    "- The fifth rucksack's compartments only share item type t.\n",
    "\n",
    "- The sixth rucksack's compartments only share item type s.\n",
    "\n",
    "To help prioritize item rearrangement, every item type can be converted to a priority:\n",
    "\n",
    "    Lowercase item types a through z have priorities 1 through 26.\n",
    "    Uppercase item types A through Z have priorities 27 through 52.\n",
    "    \n",
    "In the above example, the priority of the item type that appears in both compartments of each rucksack is 16 (p), 38 (L), 42 (P), 22 (v), 20 (t), and 19 (s); the sum of these is 157.\n",
    "\n",
    "Find the item type that appears in both compartments of each rucksack. What is the sum of the priorities of those item types?"
   ]
  },
  {
   "cell_type": "code",
   "execution_count": 30,
   "id": "bab4f4cd",
   "metadata": {},
   "outputs": [],
   "source": [
    "#Open file\n",
    "file = open('day3input.txt', 'r')"
   ]
  },
  {
   "cell_type": "code",
   "execution_count": 31,
   "id": "5ebd1d02",
   "metadata": {},
   "outputs": [],
   "source": [
    "#get lines\n",
    "lines = file.readlines()"
   ]
  },
  {
   "cell_type": "code",
   "execution_count": 32,
   "id": "4491d3c9",
   "metadata": {},
   "outputs": [
    {
     "data": {
      "text/plain": [
       "['fzmmmfwDWFzlQQqjCQjDGnqq\\n',\n",
       " 'tJHJvLJVVttNsvTtTvgHHSVwCsQRQQZCZZMqQMQBnqBMQs\\n',\n",
       " 'LgThNJhNSgTJVgvgtghPhbpfWzfbwfPmpprb\\n',\n",
       " 'lDLnSnLZRjmWrlhrFF\\n',\n",
       " 'PffQJNqJbPZbpmjrrCVNFmCh\\n',\n",
       " 'qzbcbqfMfZMTfQTqqzzTPPLMHgBBBtHRStvgHRDBnSRL\\n',\n",
       " 'WPZfJlZZCMwwZPWCwWzVHQhsshVSsfNQHdvQNN\\n',\n",
       " 'FLGDGGnGdVjQQQDQ\\n',\n",
       " 'ccFFbggLnRcLFRtFBmnJzdZZzZBMpwJlZMppMp\\n',\n",
       " 'RZsnCZssCnDccJCnfcQfHTdzMzhdLdMTqdRqpRLwqq\\n',\n",
       " 'tNrGNrrvGhTThQqw\\n',\n",
       " 'rrFStPgrFWWgvmPgQjtmNtmJcfJcsJsZblDZfbfHDFHnfl\\n',\n",
       " 'RdTfgbbPbJWDDqRvsDsmVG\\n',\n",
       " 'NSQZLQZHpFGLqnLszrJm\\n',\n",
       " 'ZMSNMHhNZMMSQwhQJWPBJCbhbcgtgfcJ\\n',\n",
       " 'qZfqPvLnnZGpGpCJlvsMsMlHJJHB\\n',\n",
       " 'mTWFFFTTtVSJMzzjWgSH\\n',\n",
       " 'RbVdtdFtcrmbRQDDVHDQTbDNwLPLfnqZnhZhQnNwfNqnnn\\n',\n",
       " 'nhHfSGHGThhZjnhrrSnsSczdzlfzzdQQVzRNFNcFdl\\n',\n",
       " 'JJvCDvmCbtvpvbMmDvLbCJpmqdVVVcMcNGzRcNFcRRzRclQd\\n']"
      ]
     },
     "execution_count": 32,
     "metadata": {},
     "output_type": "execute_result"
    }
   ],
   "source": [
    "#look at first few lines\n",
    "lines[:20]"
   ]
  },
  {
   "cell_type": "code",
   "execution_count": 33,
   "id": "14ad3ebe",
   "metadata": {},
   "outputs": [],
   "source": [
    "def get_repeat(line):\n",
    "    \"\"\"\n",
    "    function takes in the line and returns the common item\n",
    "    \"\"\"\n",
    "    # get midpoint of line\n",
    "    line = line.strip()\n",
    "    split = len(line) // 2\n",
    "\n",
    "    # split into the two inventories\n",
    "    first, second = line[:split], line[split:]\n",
    "\n",
    "    for letter in first:\n",
    "        if letter in second:\n",
    "            return(letter)"
   ]
  },
  {
   "cell_type": "code",
   "execution_count": 34,
   "id": "d92c8fd4",
   "metadata": {},
   "outputs": [],
   "source": [
    "def get_score(letter):\n",
    "    '''\n",
    "    function takes in a letter and returns the score\n",
    "    '''\n",
    "    if letter.islower():\n",
    "        return ord(letter) - 96\n",
    "    else:\n",
    "        return ord(letter) - 38"
   ]
  },
  {
   "cell_type": "code",
   "execution_count": 35,
   "id": "e6d16906",
   "metadata": {},
   "outputs": [
    {
     "name": "stdout",
     "output_type": "stream",
     "text": [
      "The solution to part 1 is:  8515\n"
     ]
    }
   ],
   "source": [
    "total = 0\n",
    "\n",
    "for line in lines:\n",
    "    letter = get_repeat(line)\n",
    "    total += get_score(letter)\n",
    "print('The solution to part 1 is: ', total)"
   ]
  },
  {
   "cell_type": "markdown",
   "id": "44d9d8ac",
   "metadata": {},
   "source": [
    "--- Part Two ---\n",
    "\n",
    "As you finish identifying the misplaced items, the Elves come to you with another issue.\n",
    "\n",
    "For safety, the Elves are divided into groups of three. Every Elf carries a badge that identifies their group. For efficiency, within each group of three Elves, the badge is the only item type carried by all three Elves. That is, if a group's badge is item type B, then all three Elves will have item type B somewhere in their rucksack, and at most two of the Elves will be carrying any other item type.\n",
    "\n",
    "The problem is that someone forgot to put this year's updated authenticity sticker on the badges. All of the badges need to be pulled out of the rucksacks so the new authenticity stickers can be attached.\n",
    "\n",
    "Additionally, nobody wrote down which item type corresponds to each group's badges. The only way to tell which item type is the right one is by finding the one item type that is common between all three Elves in each group.\n",
    "\n",
    "Every set of three lines in your list corresponds to a single group, but each group can have a different badge item type. So, in the above example, the first group's rucksacks are the first three lines:\n",
    "\n",
    "    vJrwpWtwJgWrhcsFMMfFFhFp\n",
    "    jqHRNqRjqzjGDLGLrsFMfFZSrLrFZsSL\n",
    "    PmmdzqPrVvPwwTWBwg\n",
    "    \n",
    "And the second group's rucksacks are the next three lines:\n",
    "\n",
    "    wMqvLMZHhHMvwLHjbvcjnnSBnvTQFn\n",
    "    ttgJtRGJQctTZtZT\n",
    "    CrZsJsPPZsGzwwsLwLmpwMDw\n",
    "    \n",
    "In the first group, the only item type that appears in all three rucksacks is lowercase r; this must be their badges. In the second group, their badge item type must be Z.\n",
    "\n",
    "Priorities for these items must still be found to organize the sticker attachment efforts: here, they are 18 (r) for the first group and 52 (Z) for the second group. The sum of these is 70.\n",
    "\n",
    "Find the item type that corresponds to the badges of each three-Elf group. What is the sum of the priorities of those item types?"
   ]
  },
  {
   "cell_type": "code",
   "execution_count": 51,
   "id": "a7d26f31",
   "metadata": {},
   "outputs": [],
   "source": [
    "def get_item(group):\n",
    "    'function to take 3 lines and return the repeat item'\n",
    "    possibles = ''\n",
    "    for char in group[0].strip():\n",
    "        if char in group[1].strip():\n",
    "            possibles += char\n",
    "    for char in possibles:\n",
    "        if char in group[2].strip():\n",
    "            return char"
   ]
  },
  {
   "cell_type": "code",
   "execution_count": 52,
   "id": "1f51c6a4",
   "metadata": {
    "scrolled": true
   },
   "outputs": [
    {
     "name": "stdout",
     "output_type": "stream",
     "text": [
      "The solution to part 2 is:  2434\n"
     ]
    }
   ],
   "source": [
    "total = 0\n",
    "\n",
    "for i in range(0,len(lines),3):\n",
    "    letter = get_item(lines[i:i+3])\n",
    "    total += get_score(letter)\n",
    "    \n",
    "print('The solution to part 2 is: ', total)"
   ]
  }
 ],
 "metadata": {
  "kernelspec": {
   "display_name": "Python 3 (ipykernel)",
   "language": "python",
   "name": "python3"
  },
  "language_info": {
   "codemirror_mode": {
    "name": "ipython",
    "version": 3
   },
   "file_extension": ".py",
   "mimetype": "text/x-python",
   "name": "python",
   "nbconvert_exporter": "python",
   "pygments_lexer": "ipython3",
   "version": "3.9.12"
  }
 },
 "nbformat": 4,
 "nbformat_minor": 5
}

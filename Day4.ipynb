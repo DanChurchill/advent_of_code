{
 "cells": [
  {
   "cell_type": "markdown",
   "id": "41f69a9a",
   "metadata": {},
   "source": [
    "# Advent of Code Day 4"
   ]
  },
  {
   "cell_type": "markdown",
   "id": "d8323ed2",
   "metadata": {},
   "source": [
    "--- Day 4: Camp Cleanup ---\n",
    "\n",
    "Space needs to be cleared before the last supplies can be unloaded from the ships, and so several Elves have been assigned the job of cleaning up sections of the camp. Every section has a unique ID number, and each Elf is assigned a range of section IDs.\n",
    "\n",
    "However, as some of the Elves compare their section assignments with each other, they've noticed that many of the assignments overlap. To try to quickly find overlaps and reduce duplicated effort, the Elves pair up and make a big list of the section assignments for each pair (your puzzle input).\n",
    "\n",
    "For example, consider the following list of section assignment pairs:\n",
    "\n",
    "    2-4,6-8\n",
    "    2-3,4-5\n",
    "    5-7,7-9\n",
    "    2-8,3-7\n",
    "    6-6,4-6\n",
    "    2-6,4-8\n",
    "    \n",
    "For the first few pairs, this list means:\n",
    "\n",
    "- Within the first pair of Elves, the first Elf was assigned sections 2-4 (sections 2, 3, and 4), while the second Elf was assigned sections 6-8 (sections 6, 7, 8).\n",
    "\n",
    "- The Elves in the second pair were each assigned two sections.\n",
    "\n",
    "- The Elves in the third pair were each assigned three sections: one got sections 5, 6, and 7, while the other also got 7, plus 8 and 9.\n",
    "\n",
    "- This example list uses single-digit section IDs to make it easier to draw; your actual list might contain larger numbers. \n",
    "\n",
    "Visually, these pairs of section assignments look like this:\n",
    "\n",
    "    .234.....  2-4\n",
    "    .....678.  6-8\n",
    "\n",
    "    .23......  2-3\n",
    "    ...45....  4-5\n",
    "\n",
    "    ....567..  5-7\n",
    "    ......789  7-9\n",
    "\n",
    "    .2345678.  2-8\n",
    "    ..34567..  3-7\n",
    "\n",
    "    .....6...  6-6\n",
    "    ...456...  4-6\n",
    "\n",
    "    .23456...  2-6\n",
    "    ...45678.  4-8\n",
    "    \n",
    "Some of the pairs have noticed that one of their assignments fully contains the other. For example, 2-8 fully contains 3-7, and 6-6 is fully contained by 4-6. In pairs where one assignment fully contains the other, one Elf in the pair would be exclusively cleaning sections their partner will already be cleaning, so these seem like the most in need of reconsideration. In this example, there are 2 such pairs.\n",
    "\n",
    "In how many assignment pairs does one range fully contain the other?"
   ]
  },
  {
   "cell_type": "code",
   "execution_count": 1,
   "id": "bab4f4cd",
   "metadata": {},
   "outputs": [],
   "source": [
    "#Open file\n",
    "file = open('day4input.txt', 'r')"
   ]
  },
  {
   "cell_type": "code",
   "execution_count": 2,
   "id": "5ebd1d02",
   "metadata": {},
   "outputs": [],
   "source": [
    "#get lines\n",
    "lines = file.readlines()"
   ]
  },
  {
   "cell_type": "code",
   "execution_count": 3,
   "id": "4491d3c9",
   "metadata": {},
   "outputs": [
    {
     "data": {
      "text/plain": [
       "['22-65,22-66\\n',\n",
       " '91-94,63-91\\n',\n",
       " '6-88,5-31\\n',\n",
       " '85-86,64-86\\n',\n",
       " '40-65,40-65\\n',\n",
       " '25-82,24-94\\n',\n",
       " '68-69,68-92\\n',\n",
       " '60-91,89-92\\n',\n",
       " '3-72,3-73\\n',\n",
       " '44-85,84-85\\n',\n",
       " '15-72,14-72\\n',\n",
       " '84-92,84-92\\n',\n",
       " '10-84,3-10\\n',\n",
       " '32-62,31-61\\n',\n",
       " '14-98,98-99\\n',\n",
       " '24-78,24-61\\n',\n",
       " '2-5,5-89\\n',\n",
       " '58-95,58-59\\n',\n",
       " '39-93,92-93\\n',\n",
       " '11-82,81-82\\n']"
      ]
     },
     "execution_count": 3,
     "metadata": {},
     "output_type": "execute_result"
    }
   ],
   "source": [
    "#look at first few lines\n",
    "lines[:20]"
   ]
  },
  {
   "cell_type": "code",
   "execution_count": 8,
   "id": "14ad3ebe",
   "metadata": {},
   "outputs": [],
   "source": [
    "# import regex for splitting the lines\n",
    "import re"
   ]
  },
  {
   "cell_type": "code",
   "execution_count": 28,
   "id": "fd96b936",
   "metadata": {},
   "outputs": [
    {
     "name": "stdout",
     "output_type": "stream",
     "text": [
      "The solution to part 1 is:  584\n"
     ]
    }
   ],
   "source": [
    "count = 0\n",
    "\n",
    "for line in lines:\n",
    "    # split line into first pair begining, first pair end, second pair beginning, second pair end\n",
    "    first_b, first_e, second_b, second_e = re.split('-|,', line.strip())\n",
    "    \n",
    "    # convert to integers\n",
    "    first_b, first_e, second_b, second_e = int(first_b), int(first_e), int(second_b), int(second_e)\n",
    "    \n",
    "    # test for one range in the other range\n",
    "    if first_b >= second_b and first_e <= second_e: \n",
    "        count += 1\n",
    "    elif second_b >= first_b and second_e <= first_e:\n",
    "        count += 1\n",
    "        \n",
    "print('The solution to part 1 is: ', count)"
   ]
  },
  {
   "cell_type": "markdown",
   "id": "44d9d8ac",
   "metadata": {},
   "source": [
    "--- Part Two ---\n",
    "\n",
    "It seems like there is still quite a bit of duplicate work planned. Instead, the Elves would like to know the number of pairs that overlap at all.\n",
    "\n",
    "In the above example, the first two pairs (2-4,6-8 and 2-3,4-5) don't overlap, while the remaining four pairs (5-7,7-9, 2-8,3-7, 6-6,4-6, and 2-6,4-8) do overlap:\n",
    "\n",
    "- 5-7,7-9 overlaps in a single section, 7.\n",
    "- 2-8,3-7 overlaps all of the sections 3 through 7.\n",
    "- 6-6,4-6 overlaps in a single section, 6.\n",
    "- 2-6,4-8 overlaps in sections 4, 5, and 6.\n",
    "\n",
    "So, in this example, the number of overlapping assignment pairs is 4.\n",
    "\n",
    "In how many assignment pairs do the ranges overlap?"
   ]
  },
  {
   "cell_type": "code",
   "execution_count": 31,
   "id": "a7d26f31",
   "metadata": {},
   "outputs": [
    {
     "name": "stdout",
     "output_type": "stream",
     "text": [
      "The solution to part 2 is:  933\n"
     ]
    }
   ],
   "source": [
    "count = 0\n",
    "\n",
    "for line in lines:\n",
    "    # split line into first pair begining, first pair end, second pair beginning, second pair end\n",
    "    first_b, first_e, second_b, second_e = re.split('-|,', line.strip())\n",
    "    \n",
    "    # convert to integers\n",
    "    first_b, first_e, second_b, second_e = int(first_b), int(first_e), int(second_b), int(second_e)\n",
    "    \n",
    "    # test for one range overlaps the other range\n",
    "    if first_b in range(second_b, second_e+1): \n",
    "        count += 1\n",
    "    elif first_e in range(second_b, second_e+1):\n",
    "        count += 1\n",
    "    elif second_b in range(first_b, first_e+1):\n",
    "        count += 1    \n",
    "    elif second_e in range(first_b, first_e+1):\n",
    "        count += 1\n",
    "        \n",
    "print('The solution to part 2 is: ', count)"
   ]
  }
 ],
 "metadata": {
  "kernelspec": {
   "display_name": "Python 3 (ipykernel)",
   "language": "python",
   "name": "python3"
  },
  "language_info": {
   "codemirror_mode": {
    "name": "ipython",
    "version": 3
   },
   "file_extension": ".py",
   "mimetype": "text/x-python",
   "name": "python",
   "nbconvert_exporter": "python",
   "pygments_lexer": "ipython3",
   "version": "3.9.12"
  }
 },
 "nbformat": 4,
 "nbformat_minor": 5
}

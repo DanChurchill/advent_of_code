{
 "cells": [
  {
   "cell_type": "markdown",
   "id": "41f69a9a",
   "metadata": {},
   "source": [
    "# Advent of Code day 5"
   ]
  },
  {
   "cell_type": "markdown",
   "id": "85183db4",
   "metadata": {},
   "source": [
    "--- Day 6: Tuning Trouble ---\n",
    "\n",
    "The preparations are finally complete; you and the Elves leave camp on foot and begin to make your way toward the star fruit grove.\n",
    "\n",
    "As you move through the dense undergrowth, one of the Elves gives you a handheld device. He says that it has many fancy features, but the most important one to set up right now is the communication system.\n",
    "\n",
    "However, because he's heard you have significant experience dealing with signal-based systems, he convinced the other Elves that it would be okay to give you their one malfunctioning device - surely you'll have no problem fixing it.\n",
    "\n",
    "As if inspired by comedic timing, the device emits a few colorful sparks.\n",
    "\n",
    "To be able to communicate with the Elves, the device needs to lock on to their signal. The signal is a series of seemingly-random characters that the device receives one at a time.\n",
    "\n",
    "To fix the communication system, you need to add a subroutine to the device that detects a start-of-packet marker in the datastream. In the protocol being used by the Elves, the start of a packet is indicated by a sequence of four characters that are all different.\n",
    "\n",
    "The device will send your subroutine a datastream buffer (your puzzle input); your subroutine needs to identify the first position where the four most recently received characters were all different. Specifically, it needs to report the number of characters from the beginning of the buffer to the end of the first such four-character marker.\n",
    "\n",
    "For example, suppose you receive the following datastream buffer:\n",
    "\n",
    "mjqjpqmgbljsphdztnvjfqwrcgsmlb\n",
    "\n",
    "After the first three characters (mjq) have been received, there haven't been enough characters received yet to find the marker. The first time a marker could occur is after the fourth character is received, making the most recent four characters mjqj. Because j is repeated, this isn't a marker.\n",
    "\n",
    "The first time a marker appears is after the seventh character arrives. Once it does, the last four characters received are jpqm, which are all different. In this case, your subroutine should report the value 7, because the first start-of-packet marker is complete after 7 characters have been processed.\n",
    "\n",
    "Here are a few more examples:\n",
    "\n",
    "- bvwbjplbgvbhsrlpgdmjqwftvncz: first marker after character 5\n",
    "- nppdvjthqldpwncqszvftbrmjlhg: first marker after character 6\n",
    "- nznrnfrfntjfmvfwmzdfjlvtqnbhcprsg: first marker after character 10\n",
    "- zcfzfwzzqfrljwzlrfnpqdbhtmscgvjw: first marker after character 11\n",
    "\n",
    "How many characters need to be processed before the first start-of-packet marker is detected?"
   ]
  },
  {
   "cell_type": "code",
   "execution_count": 4,
   "id": "bab4f4cd",
   "metadata": {},
   "outputs": [],
   "source": [
    "#Open file\n",
    "file = open('day6input.txt', 'r')"
   ]
  },
  {
   "cell_type": "code",
   "execution_count": 5,
   "id": "5ebd1d02",
   "metadata": {},
   "outputs": [],
   "source": [
    "#get lines\n",
    "lines = file.readlines()"
   ]
  },
  {
   "cell_type": "code",
   "execution_count": 6,
   "id": "4491d3c9",
   "metadata": {},
   "outputs": [],
   "source": [
    "#remove extra characters/newlines\n",
    "buffer = lines[0].strip()"
   ]
  },
  {
   "cell_type": "code",
   "execution_count": 7,
   "id": "a4a1b048",
   "metadata": {},
   "outputs": [
    {
     "name": "stdout",
     "output_type": "stream",
     "text": [
      "solution to part 1 is:  1361\n"
     ]
    }
   ],
   "source": [
    "#Part 1 solution\n",
    "# check rolling group of 4 characters by comparing length of the group and the set of the group\n",
    "# once the groups are equal length, print the index and quit\n",
    "for i in range(4,len(buffer)):\n",
    "    group = buffer[i-4:i]\n",
    "    if len(group) == len(set(group)):\n",
    "        print('solution to part 1 is: ',i)\n",
    "        break"
   ]
  },
  {
   "cell_type": "code",
   "execution_count": 9,
   "id": "f7608b2b",
   "metadata": {},
   "outputs": [
    {
     "name": "stdout",
     "output_type": "stream",
     "text": [
      "solution to part 2 is:  3263\n"
     ]
    }
   ],
   "source": [
    "#Part 2 solution\n",
    "# check rolling group of 14 characters by comparing length of the group and the set of the group\n",
    "# once the groups are equal length, print the index and quit\n",
    "for i in range(14,len(buffer)):\n",
    "    group = buffer[i-14:i]\n",
    "    if len(group) == len(set(group)):\n",
    "        print('solution to part 2 is: ',i)\n",
    "        break"
   ]
  },
  {
   "cell_type": "code",
   "execution_count": null,
   "id": "e048c317",
   "metadata": {},
   "outputs": [],
   "source": []
  }
 ],
 "metadata": {
  "kernelspec": {
   "display_name": "Python 3 (ipykernel)",
   "language": "python",
   "name": "python3"
  },
  "language_info": {
   "codemirror_mode": {
    "name": "ipython",
    "version": 3
   },
   "file_extension": ".py",
   "mimetype": "text/x-python",
   "name": "python",
   "nbconvert_exporter": "python",
   "pygments_lexer": "ipython3",
   "version": "3.9.12"
  }
 },
 "nbformat": 4,
 "nbformat_minor": 5
}

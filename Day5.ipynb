{
 "cells": [
  {
   "cell_type": "markdown",
   "id": "41f69a9a",
   "metadata": {},
   "source": [
    "# Advent of Code Day 5"
   ]
  },
  {
   "cell_type": "markdown",
   "id": "d8323ed2",
   "metadata": {},
   "source": [
    "--- Day 5: Supply Stacks ---\n",
    "\n",
    "The expedition can depart as soon as the final supplies have been unloaded from the ships. Supplies are stored in stacks of marked crates, but because the needed supplies are buried under many other crates, the crates need to be rearranged.\n",
    "\n",
    "The ship has a giant cargo crane capable of moving crates between stacks. To ensure none of the crates get crushed or fall over, the crane operator will rearrange them in a series of carefully-planned steps. After the crates are rearranged, the desired crates will be at the top of each stack.\n",
    "\n",
    "The Elves don't want to interrupt the crane operator during this delicate procedure, but they forgot to ask her which crate will end up where, and they want to be ready to unload them as soon as possible so they can embark.\n",
    "\n",
    "They do, however, have a drawing of the starting stacks of crates and the rearrangement procedure (your puzzle input). For example:\n",
    "\n",
    "        [D]    \n",
    "    [N] [C]    \n",
    "    [Z] [M] [P]\n",
    "     1   2   3 \n",
    "\n",
    "    move 1 from 2 to 1\n",
    "    move 3 from 1 to 3\n",
    "    move 2 from 2 to 1\n",
    "    move 1 from 1 to 2\n",
    "    \n",
    "In this example, there are three stacks of crates. Stack 1 contains two crates: crate Z is on the bottom, and crate N is on top. Stack 2 contains three crates; from bottom to top, they are crates M, C, and D. Finally, stack 3 contains a single crate, P.\n",
    "\n",
    "Then, the rearrangement procedure is given. In each step of the procedure, a quantity of crates is moved from one stack to a different stack. In the first step of the above rearrangement procedure, one crate is moved from stack 2 to stack 1, resulting in this configuration:\n",
    "\n",
    "    [D]        \n",
    "    [N] [C]    \n",
    "    [Z] [M] [P]\n",
    "     1   2   3 \n",
    "     \n",
    "In the second step, three crates are moved from stack 1 to stack 3. Crates are moved one at a time, so the first crate to be moved (D) ends up below the second and third crates:\n",
    "\n",
    "            [Z]\n",
    "            [N]\n",
    "        [C] [D]\n",
    "        [M] [P]\n",
    "     1   2   3\n",
    "     \n",
    "Then, both crates are moved from stack 2 to stack 1. Again, because crates are moved one at a time, crate C ends up below crate M:\n",
    "\n",
    "            [Z]\n",
    "            [N]\n",
    "    [M]     [D]\n",
    "    [C]     [P]\n",
    "     1   2   3\n",
    "     \n",
    "Finally, one crate is moved from stack 1 to stack 2:\n",
    "\n",
    "            [Z]\n",
    "            [N]\n",
    "            [D]\n",
    "    [C] [M] [P]\n",
    "     1   2   3\n",
    "     \n",
    "The Elves just need to know which crate will end up on top of each stack; in this example, the top crates are C in stack 1, M in stack 2, and Z in stack 3, so you should combine these together and give the Elves the message CMZ.\n",
    "\n",
    "After the rearrangement procedure completes, what crate ends up on top of each stack?"
   ]
  },
  {
   "cell_type": "code",
   "execution_count": 1,
   "id": "bab4f4cd",
   "metadata": {},
   "outputs": [],
   "source": [
    "#Open file\n",
    "file = open('day5input.txt', 'r')"
   ]
  },
  {
   "cell_type": "code",
   "execution_count": 2,
   "id": "5ebd1d02",
   "metadata": {},
   "outputs": [],
   "source": [
    "#get lines\n",
    "lines = file.readlines()"
   ]
  },
  {
   "cell_type": "code",
   "execution_count": 3,
   "id": "4491d3c9",
   "metadata": {},
   "outputs": [
    {
     "data": {
      "text/plain": [
       "['            [J]             [B] [W]\\n',\n",
       " '            [T]     [W] [F] [R] [Z]\\n',\n",
       " '        [Q] [M]     [J] [R] [W] [H]\\n',\n",
       " '    [F] [L] [P]     [R] [N] [Z] [G]\\n',\n",
       " '[F] [M] [S] [Q]     [M] [P] [S] [C]\\n',\n",
       " '[L] [V] [R] [V] [W] [P] [C] [P] [J]\\n',\n",
       " '[M] [Z] [V] [S] [S] [V] [Q] [H] [M]\\n',\n",
       " '[W] [B] [H] [F] [L] [F] [J] [V] [B]\\n',\n",
       " ' 1   2   3   4   5   6   7   8   9 \\n',\n",
       " '\\n',\n",
       " 'move 3 from 5 to 7\\n',\n",
       " 'move 2 from 8 to 9\\n',\n",
       " 'move 4 from 3 to 5\\n',\n",
       " 'move 2 from 1 to 7\\n',\n",
       " 'move 1 from 3 to 6\\n',\n",
       " 'move 2 from 1 to 7\\n',\n",
       " 'move 1 from 8 to 7\\n',\n",
       " 'move 4 from 2 to 8\\n',\n",
       " 'move 10 from 9 to 1\\n',\n",
       " 'move 6 from 6 to 2\\n']"
      ]
     },
     "execution_count": 3,
     "metadata": {},
     "output_type": "execute_result"
    }
   ],
   "source": [
    "#look at first few lines\n",
    "lines[:20]"
   ]
  },
  {
   "cell_type": "code",
   "execution_count": 4,
   "id": "c133c504",
   "metadata": {},
   "outputs": [],
   "source": [
    "# create separate lists for stacks and moves\n",
    "stacks = []\n",
    "moves = []\n"
   ]
  },
  {
   "cell_type": "code",
   "execution_count": 5,
   "id": "7c3d3446",
   "metadata": {},
   "outputs": [],
   "source": [
    "# toggle for if stacks are complete\n",
    "loaded = False\n",
    "\n",
    "# Blank line means ship is loaded\n",
    "# If ship isn't loaded add to stacks, once loaded add to move list\n",
    "for line in lines:\n",
    "    if line == '\\n':\n",
    "        loaded = True\n",
    "    elif loaded == False:\n",
    "        stacks.append(line)\n",
    "    else:\n",
    "        moves.append(line.strip())\n"
   ]
  },
  {
   "cell_type": "code",
   "execution_count": 6,
   "id": "36b017b1",
   "metadata": {},
   "outputs": [
    {
     "data": {
      "text/plain": [
       "['            [J]             [B] [W]\\n',\n",
       " '            [T]     [W] [F] [R] [Z]\\n',\n",
       " '        [Q] [M]     [J] [R] [W] [H]\\n',\n",
       " '    [F] [L] [P]     [R] [N] [Z] [G]\\n',\n",
       " '[F] [M] [S] [Q]     [M] [P] [S] [C]\\n',\n",
       " '[L] [V] [R] [V] [W] [P] [C] [P] [J]\\n',\n",
       " '[M] [Z] [V] [S] [S] [V] [Q] [H] [M]\\n',\n",
       " '[W] [B] [H] [F] [L] [F] [J] [V] [B]\\n',\n",
       " ' 1   2   3   4   5   6   7   8   9 \\n']"
      ]
     },
     "execution_count": 6,
     "metadata": {},
     "output_type": "execute_result"
    }
   ],
   "source": [
    "#check stacks\n",
    "stacks"
   ]
  },
  {
   "cell_type": "code",
   "execution_count": 7,
   "id": "f111a3f5",
   "metadata": {},
   "outputs": [
    {
     "data": {
      "text/plain": [
       "['move 3 from 5 to 7',\n",
       " 'move 2 from 8 to 9',\n",
       " 'move 4 from 3 to 5',\n",
       " 'move 2 from 1 to 7',\n",
       " 'move 1 from 3 to 6']"
      ]
     },
     "execution_count": 7,
     "metadata": {},
     "output_type": "execute_result"
    }
   ],
   "source": [
    "#check moves\n",
    "moves[:5]"
   ]
  },
  {
   "cell_type": "code",
   "execution_count": 8,
   "id": "c0dbfcb3",
   "metadata": {},
   "outputs": [],
   "source": [
    "# get height of stacks (not including index)\n",
    "height = len(stacks)-1\n",
    "\n",
    "# create list for each column\n",
    "lists = [[],[],[],[],[],[],[],[],[]]\n",
    "\n",
    "# iterate each row and load lists\n",
    "for i in range(height):\n",
    "    if stacks[i][1] != ' ':\n",
    "        lists[0].insert(0,stacks[i][1])\n",
    "    if stacks[i][5] != ' ':\n",
    "        lists[1].insert(0,stacks[i][5])\n",
    "    if stacks[i][9] != ' ':\n",
    "        lists[2].insert(0,stacks[i][9])\n",
    "    if stacks[i][13] != ' ':\n",
    "        lists[3].insert(0,stacks[i][13])\n",
    "    if stacks[i][17] != ' ':\n",
    "        lists[4].insert(0,stacks[i][17])\n",
    "    if stacks[i][21] != ' ':\n",
    "        lists[5].insert(0,stacks[i][21])\n",
    "    if stacks[i][25] != ' ':\n",
    "        lists[6].insert(0,stacks[i][25])\n",
    "    if stacks[i][29] != ' ':\n",
    "        lists[7].insert(0,stacks[i][29])\n",
    "    if stacks[i][33] != ' ':\n",
    "        lists[8].insert(0,stacks[i][33])"
   ]
  },
  {
   "cell_type": "code",
   "execution_count": 9,
   "id": "5d26cd2a",
   "metadata": {},
   "outputs": [
    {
     "data": {
      "text/plain": [
       "[['W', 'M', 'L', 'F'],\n",
       " ['B', 'Z', 'V', 'M', 'F'],\n",
       " ['H', 'V', 'R', 'S', 'L', 'Q'],\n",
       " ['F', 'S', 'V', 'Q', 'P', 'M', 'T', 'J'],\n",
       " ['L', 'S', 'W'],\n",
       " ['F', 'V', 'P', 'M', 'R', 'J', 'W'],\n",
       " ['J', 'Q', 'C', 'P', 'N', 'R', 'F'],\n",
       " ['V', 'H', 'P', 'S', 'Z', 'W', 'R', 'B'],\n",
       " ['B', 'M', 'J', 'C', 'G', 'H', 'Z', 'W']]"
      ]
     },
     "execution_count": 9,
     "metadata": {},
     "output_type": "execute_result"
    }
   ],
   "source": [
    "# verify that lists are loaded correctly\n",
    "lists"
   ]
  },
  {
   "cell_type": "code",
   "execution_count": 10,
   "id": "664321a4",
   "metadata": {},
   "outputs": [],
   "source": [
    "# import regex for string parsing\n",
    "import re\n",
    "\n",
    "def get_moves(line):\n",
    "    '''\n",
    "    Function to get the digits from a line of moves\n",
    "    '''\n",
    "    nums = re.findall(r'\\d+', line)\n",
    "    return int(nums[0]), int(nums[1]), int(nums[2])"
   ]
  },
  {
   "cell_type": "code",
   "execution_count": 11,
   "id": "e8227a94",
   "metadata": {},
   "outputs": [],
   "source": [
    "def make_moves(move_line, lists):\n",
    "    '''\n",
    "    function takes a line of moves and a list of stacks\n",
    "    returns the new stack after making the moves\n",
    "    '''\n",
    "    num, start, end = get_moves(move_line)\n",
    "    \n",
    "    \n",
    "    for i in range(num):\n",
    "        #pop last item from start column and append to end column\n",
    "        lists[end-1].append(lists[start-1].pop())\n",
    "    return lists\n",
    "    "
   ]
  },
  {
   "cell_type": "code",
   "execution_count": 12,
   "id": "25a91395",
   "metadata": {},
   "outputs": [
    {
     "data": {
      "text/plain": [
       "[['B', 'L', 'F', 'S', 'V', 'R', 'S', 'L', 'H', 'V'],\n",
       " ['W', 'J', 'B', 'P', 'J', 'M', 'F', 'P', 'W', 'M', 'R', 'R'],\n",
       " ['F', 'W'],\n",
       " ['V', 'S', 'C', 'B'],\n",
       " ['V', 'J', 'H', 'J', 'M', 'H', 'S'],\n",
       " ['Q', 'R', 'P', 'M', 'G', 'Z', 'Z', 'F'],\n",
       " ['F', 'C', 'Q', 'L', 'P', 'T', 'V', 'W', 'Q', 'Z'],\n",
       " ['N', 'W'],\n",
       " ['M']]"
      ]
     },
     "execution_count": 12,
     "metadata": {},
     "output_type": "execute_result"
    }
   ],
   "source": [
    "# iterate through move list and show result\n",
    "for line in moves:\n",
    "    lists = make_moves(line, lists)\n",
    "lists"
   ]
  },
  {
   "cell_type": "code",
   "execution_count": 13,
   "id": "5a1cf19f",
   "metadata": {},
   "outputs": [
    {
     "name": "stdout",
     "output_type": "stream",
     "text": [
      "The solution to part 1 is:  VRWBSFZWM\n"
     ]
    }
   ],
   "source": [
    "# get top item from each stack and add to answer\n",
    "answer = ''\n",
    "for col in lists:\n",
    "    answer += col[-1]\n",
    "print('The solution to part 1 is: ', answer)"
   ]
  },
  {
   "cell_type": "markdown",
   "id": "44d9d8ac",
   "metadata": {},
   "source": [
    "--- Part Two ---\n",
    "\n",
    "As you watch the crane operator expertly rearrange the crates, you notice the process isn't following your prediction.\n",
    "\n",
    "Some mud was covering the writing on the side of the crane, and you quickly wipe it away. The crane isn't a CrateMover 9000 - it's a CrateMover 9001.\n",
    "\n",
    "The CrateMover 9001 is notable for many new and exciting features: air conditioning, leather seats, an extra cup holder, and the ability to pick up and move multiple crates at once.\n",
    "\n",
    "Again considering the example above, the crates begin in the same configuration:\n",
    "\n",
    "        [D]    \n",
    "    [N] [C]    \n",
    "    [Z] [M] [P]\n",
    "     1   2   3 \n",
    "     \n",
    "Moving a single crate from stack 2 to stack 1 behaves the same as before:\n",
    "\n",
    "    [D]        \n",
    "    [N] [C]    \n",
    "    [Z] [M] [P]\n",
    "     1   2   3 \n",
    "     \n",
    "However, the action of moving three crates from stack 1 to stack 3 means that those three moved crates stay in the same order, resulting in this new configuration:\n",
    "\n",
    "            [D]\n",
    "            [N]\n",
    "        [C] [Z]\n",
    "        [M] [P]\n",
    "     1   2   3\n",
    "     \n",
    "Next, as both crates are moved from stack 2 to stack 1, they retain their order as well:\n",
    "\n",
    "            [D]\n",
    "            [N]\n",
    "    [C]     [Z]\n",
    "    [M]     [P]\n",
    "     1   2   3\n",
    "     \n",
    "Finally, a single crate is still moved from stack 1 to stack 2, but now it's crate C that gets moved:\n",
    "\n",
    "            [D]\n",
    "            [N]\n",
    "            [Z]\n",
    "    [M] [C] [P]\n",
    "     1   2   3\n",
    "     \n",
    "In this example, the CrateMover 9001 has put the crates in a totally different order: MCD.\n",
    "\n",
    "Before the rearrangement process finishes, update your simulation so that the Elves know where they should stand to be ready to unload the final supplies. After the rearrangement procedure completes, what crate ends up on top of each stack?"
   ]
  },
  {
   "cell_type": "code",
   "execution_count": 14,
   "id": "a7d26f31",
   "metadata": {},
   "outputs": [
    {
     "data": {
      "text/plain": [
       "[['W', 'M', 'L', 'F'],\n",
       " ['B', 'Z', 'V', 'M', 'F'],\n",
       " ['H', 'V', 'R', 'S', 'L', 'Q'],\n",
       " ['F', 'S', 'V', 'Q', 'P', 'M', 'T', 'J'],\n",
       " ['L', 'S', 'W'],\n",
       " ['F', 'V', 'P', 'M', 'R', 'J', 'W'],\n",
       " ['J', 'Q', 'C', 'P', 'N', 'R', 'F'],\n",
       " ['V', 'H', 'P', 'S', 'Z', 'W', 'R', 'B'],\n",
       " ['B', 'M', 'J', 'C', 'G', 'H', 'Z', 'W']]"
      ]
     },
     "execution_count": 14,
     "metadata": {},
     "output_type": "execute_result"
    }
   ],
   "source": [
    "# reset the stack lists\n",
    "\n",
    "# get height of stacks (not including index)\n",
    "height = len(stacks)-1\n",
    "\n",
    "# create list for each column\n",
    "lists = [[],[],[],[],[],[],[],[],[]]\n",
    "\n",
    "# iterate each row and load lists\n",
    "for i in range(height):\n",
    "    if stacks[i][1] != ' ':\n",
    "        lists[0].insert(0,stacks[i][1])\n",
    "    if stacks[i][5] != ' ':\n",
    "        lists[1].insert(0,stacks[i][5])\n",
    "    if stacks[i][9] != ' ':\n",
    "        lists[2].insert(0,stacks[i][9])\n",
    "    if stacks[i][13] != ' ':\n",
    "        lists[3].insert(0,stacks[i][13])\n",
    "    if stacks[i][17] != ' ':\n",
    "        lists[4].insert(0,stacks[i][17])\n",
    "    if stacks[i][21] != ' ':\n",
    "        lists[5].insert(0,stacks[i][21])\n",
    "    if stacks[i][25] != ' ':\n",
    "        lists[6].insert(0,stacks[i][25])\n",
    "    if stacks[i][29] != ' ':\n",
    "        lists[7].insert(0,stacks[i][29])\n",
    "    if stacks[i][33] != ' ':\n",
    "        lists[8].insert(0,stacks[i][33])\n",
    "\n",
    "lists"
   ]
  },
  {
   "cell_type": "code",
   "execution_count": 15,
   "id": "48bb7149",
   "metadata": {},
   "outputs": [],
   "source": [
    "# new function for updated crane\n",
    "\n",
    "def make_moves2(move_line, lists):\n",
    "    '''\n",
    "    function takes a line of moves and a list of stacks\n",
    "    returns the new stack after making the moves\n",
    "    '''\n",
    "    num, start, end = get_moves(move_line)\n",
    "    \n",
    "    # get slice of stack that's moving\n",
    "    movers = lists[start-1][-num:]\n",
    "    \n",
    "    # add slice to end stack\n",
    "    lists[end-1] += movers\n",
    "    \n",
    "    # remove slice from start stack \n",
    "    lists[start-1] = lists[start-1][:-num]\n",
    "    \n",
    "    return lists\n",
    "    \n",
    "    "
   ]
  },
  {
   "cell_type": "code",
   "execution_count": 16,
   "id": "3fa5084e",
   "metadata": {
    "scrolled": true
   },
   "outputs": [
    {
     "data": {
      "text/plain": [
       "[['W', 'V', 'N', 'Q', 'V', 'Q', 'M', 'S', 'H', 'R'],\n",
       " ['L', 'L', 'F', 'F', 'H', 'J', 'V', 'P', 'B', 'R', 'F', 'B'],\n",
       " ['M', 'T'],\n",
       " ['S', 'C', 'F', 'W'],\n",
       " ['J', 'Q', 'S', 'Z', 'P', 'W', 'J'],\n",
       " ['S', 'B', 'R', 'P', 'G', 'M', 'J', 'W'],\n",
       " ['W', 'V', 'M', 'Z', 'H', 'L', 'Z', 'V', 'R', 'M'],\n",
       " ['P', 'C'],\n",
       " ['F']]"
      ]
     },
     "execution_count": 16,
     "metadata": {},
     "output_type": "execute_result"
    }
   ],
   "source": [
    "# iterate through move list and show result\n",
    "for line in moves:\n",
    "    lists = make_moves2(line, lists)\n",
    "lists"
   ]
  },
  {
   "cell_type": "code",
   "execution_count": 17,
   "id": "40de1cd3",
   "metadata": {},
   "outputs": [
    {
     "name": "stdout",
     "output_type": "stream",
     "text": [
      "The solution to part 1 is:  RBTWJWMCF\n"
     ]
    }
   ],
   "source": [
    "# get top item from each stack and add to answer\n",
    "answer = ''\n",
    "for col in lists:\n",
    "    answer += col[-1]\n",
    "print('The solution to part 1 is: ', answer)"
   ]
  },
  {
   "cell_type": "code",
   "execution_count": null,
   "id": "02406d3d",
   "metadata": {},
   "outputs": [],
   "source": []
  }
 ],
 "metadata": {
  "kernelspec": {
   "display_name": "Python 3 (ipykernel)",
   "language": "python",
   "name": "python3"
  },
  "language_info": {
   "codemirror_mode": {
    "name": "ipython",
    "version": 3
   },
   "file_extension": ".py",
   "mimetype": "text/x-python",
   "name": "python",
   "nbconvert_exporter": "python",
   "pygments_lexer": "ipython3",
   "version": "3.9.12"
  }
 },
 "nbformat": 4,
 "nbformat_minor": 5
}

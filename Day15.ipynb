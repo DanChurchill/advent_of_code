{
 "cells": [
  {
   "cell_type": "markdown",
   "id": "41f69a9a",
   "metadata": {},
   "source": [
    "# Advent of Code day 15"
   ]
  },
  {
   "cell_type": "markdown",
   "id": "d8323ed2",
   "metadata": {},
   "source": [
    "--- Day 15: Beacon Exclusion Zone ---\n",
    "\n",
    "You feel the ground rumble again as the distress signal leads you to a large network of subterranean tunnels. You don't have time to search them all, but you don't need to: your pack contains a set of deployable sensors that you imagine were originally built to locate lost Elves.\n",
    "\n",
    "The sensors aren't very powerful, but that's okay; your handheld device indicates that you're close enough to the source of the distress signal to use them. You pull the emergency sensor system out of your pack, hit the big button on top, and the sensors zoom off down the tunnels.\n",
    "\n",
    "Once a sensor finds a spot it thinks will give it a good reading, it attaches itself to a hard surface and begins monitoring for the nearest signal source beacon. Sensors and beacons always exist at integer coordinates. Each sensor knows its own position and can determine the position of a beacon precisely; however, sensors can only lock on to the one beacon closest to the sensor as measured by the Manhattan distance. (There is never a tie where two beacons are the same distance to a sensor.)\n",
    "\n",
    "It doesn't take long for the sensors to report back their positions and closest beacons (your puzzle input). For example:\n",
    "\n",
    "- Sensor at x=2, y=18: closest beacon is at x=-2, y=15\n",
    "- Sensor at x=9, y=16: closest beacon is at x=10, y=16\n",
    "- Sensor at x=13, y=2: closest beacon is at x=15, y=3\n",
    "- Sensor at x=12, y=14: closest beacon is at x=10, y=16\n",
    "- Sensor at x=10, y=20: closest beacon is at x=10, y=16\n",
    "- Sensor at x=14, y=17: closest beacon is at x=10, y=16\n",
    "- Sensor at x=8, y=7: closest beacon is at x=2, y=10\n",
    "- Sensor at x=2, y=0: closest beacon is at x=2, y=10\n",
    "- Sensor at x=0, y=11: closest beacon is at x=2, y=10\n",
    "- Sensor at x=20, y=14: closest beacon is at x=25, y=17\n",
    "- Sensor at x=17, y=20: closest beacon is at x=21, y=22\n",
    "- Sensor at x=16, y=7: closest beacon is at x=15, y=3\n",
    "- Sensor at x=14, y=3: closest beacon is at x=15, y=3\n",
    "- Sensor at x=20, y=1: closest beacon is at x=15, y=3\n",
    "\n",
    "So, consider the sensor at 2,18; the closest beacon to it is at -2,15. For the sensor at 9,16, the closest beacon to it is at 10,16.\n",
    "\n",
    "Drawing sensors as S and beacons as B, the above arrangement of sensors and beacons looks like this:\n",
    "\n",
    "                   1    1    2    2\n",
    "         0    5    0    5    0    5\n",
    "     0 ....S.......................\n",
    "     1 ......................S.....\n",
    "     2 ...............S............\n",
    "     3 ................SB..........\n",
    "     4 ............................\n",
    "     5 ............................\n",
    "     6 ............................\n",
    "     7 ..........S.......S.........\n",
    "     8 ............................\n",
    "     9 ............................\n",
    "    10 ....B.......................\n",
    "    11 ..S.........................\n",
    "    12 ............................\n",
    "    13 ............................\n",
    "    14 ..............S.......S.....\n",
    "    15 B...........................\n",
    "    16 ...........SB...............\n",
    "    17 ................S..........B\n",
    "    18 ....S.......................\n",
    "    19 ............................\n",
    "    20 ............S......S........\n",
    "    21 ............................\n",
    "    22 .......................B....\n",
    "    \n",
    "This isn't necessarily a comprehensive map of all beacons in the area, though. Because each sensor only identifies its closest beacon, if a sensor detects a beacon, you know there are no other beacons that close or closer to that sensor. There could still be beacons that just happen to not be the closest beacon to any sensor. Consider the sensor at 8,7:\n",
    "\n",
    "                   1    1    2    2\n",
    "         0    5    0    5    0    5\n",
    "    -2 ..........#.................\n",
    "    -1 .........###................\n",
    "     0 ....S...#####...............\n",
    "     1 .......#######........S.....\n",
    "     2 ......#########S............\n",
    "     3 .....###########SB..........\n",
    "     4 ....#############...........\n",
    "     5 ...###############..........\n",
    "     6 ..#################.........\n",
    "     7 .#########S#######S#........\n",
    "     8 ..#################.........\n",
    "     9 ...###############..........\n",
    "    10 ....B############...........\n",
    "    11 ..S..###########............\n",
    "    12 ......#########.............\n",
    "    13 .......#######..............\n",
    "    14 ........#####.S.......S.....\n",
    "    15 B........###................\n",
    "    16 ..........#SB...............\n",
    "    17 ................S..........B\n",
    "    18 ....S.......................\n",
    "    19 ............................\n",
    "    20 ............S......S........\n",
    "    21 ............................\n",
    "    22 .......................B....\n",
    "    \n",
    "This sensor's closest beacon is at 2,10, and so you know there are no beacons that close or closer (in any positions marked #).\n",
    "\n",
    "None of the detected beacons seem to be producing the distress signal, so you'll need to work out where the distress beacon is by working out where it isn't. For now, keep things simple by counting the positions where a beacon cannot possibly be along just a single row.\n",
    "\n",
    "So, suppose you have an arrangement of beacons and sensors like in the example above and, just in the row where y=10, you'd like to count the number of positions a beacon cannot possibly exist. The coverage from all sensors near that row looks like this:\n",
    "\n",
    "                     1    1    2    2\n",
    "           0    5    0    5    0    5\n",
    "     9 ...#########################...\n",
    "    10 ..####B######################..\n",
    "    11 .###S#############.###########.\n",
    "    \n",
    "In this example, in the row where y=10, there are 26 positions where a beacon cannot be present.\n",
    "\n",
    "Consult the report from the sensors you just deployed. In the row where y=2000000, how many positions cannot contain a beacon?"
   ]
  },
  {
   "cell_type": "code",
   "execution_count": 1,
   "id": "bab4f4cd",
   "metadata": {},
   "outputs": [],
   "source": [
    "#Open file\n",
    "file = open('day15input.txt', 'r')"
   ]
  },
  {
   "cell_type": "code",
   "execution_count": 2,
   "id": "5ebd1d02",
   "metadata": {},
   "outputs": [],
   "source": [
    "#get lines\n",
    "lines = file.readlines()"
   ]
  },
  {
   "cell_type": "code",
   "execution_count": 3,
   "id": "39201522",
   "metadata": {
    "scrolled": true
   },
   "outputs": [
    {
     "name": "stdout",
     "output_type": "stream",
     "text": [
      "Sensor at x=3889276, y=3176133: closest beacon is at x=3738780, y=3090050\n",
      "Sensor at x=3545888, y=1389980: closest beacon is at x=3687798, y=2823020\n",
      "Sensor at x=2887269, y=2488344: closest beacon is at x=2809378, y=2513386\n",
      "Sensor at x=3990278, y=43134: closest beacon is at x=2307159, y=135337\n",
      "Sensor at x=3746631, y=2990632: closest beacon is at x=3738780, y=3090050\n",
      "Sensor at x=7523, y=59064: closest beacon is at x=278652, y=-182407\n",
      "Sensor at x=2662631, y=3349709: closest beacon is at x=2294322, y=3429562\n",
      "Sensor at x=3999326, y=3030235: closest beacon is at x=3738780, y=3090050\n",
      "Sensor at x=2788203, y=3722031: closest beacon is at x=3009520, y=4176552\n",
      "Sensor at x=1872146, y=1228203: closest beacon is at x=1213036, y=1428271\n",
      "Sensor at x=231045, y=2977983: closest beacon is at x=-362535, y=2000000\n",
      "Sensor at x=2233881, y=421153: closest beacon is at x=2307159, y=135337\n",
      "Sensor at x=3915820, y=2609677: closest beacon is at x=3687798, y=2823020\n",
      "Sensor at x=2959514, y=2529069: closest beacon is at x=2809378, y=2513386\n",
      "Sensor at x=1829825, y=2614275: closest beacon is at x=2809378, y=2513386\n",
      "Sensor at x=1031015, y=2036184: closest beacon is at x=1213036, y=1428271\n",
      "Sensor at x=3894267, y=3758546: closest beacon is at x=3738780, y=3090050\n",
      "Sensor at x=2653530, y=445121: closest beacon is at x=2307159, y=135337\n",
      "Sensor at x=1528274, y=1670020: closest beacon is at x=1213036, y=1428271\n",
      "Sensor at x=3839068, y=2974837: closest beacon is at x=3738780, y=3090050\n",
      "Sensor at x=254225, y=9603: closest beacon is at x=278652, y=-182407\n",
      "Sensor at x=2214848, y=3333326: closest beacon is at x=2294322, y=3429562\n",
      "Sensor at x=1008775, y=292264: closest beacon is at x=278652, y=-182407\n",
      "Sensor at x=2072077, y=6712: closest beacon is at x=2307159, y=135337\n",
      "Sensor at x=3344028, y=3459786: closest beacon is at x=3738780, y=3090050\n",
      "Sensor at x=984627, y=3991112: closest beacon is at x=2294322, y=3429562\n",
      "Sensor at x=198206, y=2034713: closest beacon is at x=-362535, y=2000000\n",
      "Sensor at x=460965, y=1150404: closest beacon is at x=1213036, y=1428271\n",
      "Sensor at x=2198999, y=3584784: closest beacon is at x=2294322, y=3429562\n",
      "Sensor at x=3212614, y=2899682: closest beacon is at x=3687798, y=2823020\n",
      "Sensor at x=3797078, y=2864795: closest beacon is at x=3687798, y=2823020\n",
      "Sensor at x=2465051, y=2871666: closest beacon is at x=2809378, y=2513386\n",
      "Sensor at x=2356218, y=3981953: closest beacon is at x=2294322, y=3429562\n",
      "Sensor at x=2389861, y=1856461: closest beacon is at x=2809378, y=2513386\n",
      "Sensor at x=2852352, y=2506253: closest beacon is at x=2809378, y=2513386\n",
      "Sensor at x=2275278, y=742411: closest beacon is at x=2307159, y=135337\n",
      "Sensor at x=1562183, y=3626443: closest beacon is at x=2294322, y=3429562\n",
      "Sensor at x=44398, y=534916: closest beacon is at x=278652, y=-182407\n"
     ]
    }
   ],
   "source": [
    "#look at input\n",
    "for line in lines:\n",
    "    print(line.strip())"
   ]
  },
  {
   "cell_type": "code",
   "execution_count": 129,
   "id": "bbb99d04",
   "metadata": {
    "scrolled": true
   },
   "outputs": [
    {
     "name": "stdout",
     "output_type": "stream",
     "text": [
      "The solution to part 1 is:  4873353\n"
     ]
    }
   ],
   "source": [
    "import re\n",
    "\n",
    "# y value of line to be tested\n",
    "test_line = 2000000\n",
    "\n",
    "# holds line locations to be eliminated\n",
    "x_spots = []\n",
    "\n",
    "for line in lines:\n",
    "    # assign sensor and beacon coords\n",
    "    coords = re.findall(r'-?\\d+', line)\n",
    "    sx, sy, bx, by = int(coords[0]), int(coords[1]), int(coords[2]), int(coords[3])\n",
    "    \n",
    "    # find distance from beacon to sensor, and distance from sensor to test line\n",
    "    b_dist = abs(bx-sx)+abs(by-sy)\n",
    "    test_dist = abs(test_line-sy)\n",
    "\n",
    "    if test_dist <= b_dist:\n",
    "        for i in range(sx-(b_dist-test_dist), sx+(b_dist-test_dist)):\n",
    "            x_spots.append(i)\n",
    "            \n",
    "solution = len(set(x_spots))\n",
    "print('The solution to part 1 is: ', solution)"
   ]
  },
  {
   "cell_type": "markdown",
   "id": "75208f52",
   "metadata": {},
   "source": [
    "--- Part Two ---\n",
    "\n",
    "Your handheld device indicates that the distress signal is coming from a beacon nearby. The distress beacon is not detected by any sensor, but the distress beacon must have x and y coordinates each no lower than 0 and no larger than 4000000.\n",
    "\n",
    "To isolate the distress beacon's signal, you need to determine its tuning frequency, which can be found by multiplying its x coordinate by 4000000 and then adding its y coordinate.\n",
    "\n",
    "In the example above, the search space is smaller: instead, the x and y coordinates can each be at most 20. With this reduced search area, there is only a single position that could have a beacon: x=14, y=11. The tuning frequency for this distress beacon is 56000011.\n",
    "\n",
    "Find the only possible position for the distress beacon. What is its tuning frequency?"
   ]
  },
  {
   "cell_type": "code",
   "execution_count": null,
   "id": "0b23ac32",
   "metadata": {},
   "outputs": [],
   "source": []
  },
  {
   "cell_type": "code",
   "execution_count": null,
   "id": "e60cec7e",
   "metadata": {},
   "outputs": [],
   "source": []
  },
  {
   "cell_type": "code",
   "execution_count": null,
   "id": "3c10c38b",
   "metadata": {},
   "outputs": [],
   "source": []
  },
  {
   "cell_type": "code",
   "execution_count": null,
   "id": "1b396fda",
   "metadata": {},
   "outputs": [],
   "source": []
  },
  {
   "cell_type": "code",
   "execution_count": null,
   "id": "c5591193",
   "metadata": {},
   "outputs": [],
   "source": []
  },
  {
   "cell_type": "code",
   "execution_count": null,
   "id": "81735fac",
   "metadata": {},
   "outputs": [],
   "source": []
  },
  {
   "cell_type": "code",
   "execution_count": null,
   "id": "c557c11c",
   "metadata": {},
   "outputs": [],
   "source": []
  },
  {
   "cell_type": "code",
   "execution_count": null,
   "id": "45790820",
   "metadata": {},
   "outputs": [],
   "source": []
  }
 ],
 "metadata": {
  "kernelspec": {
   "display_name": "Python 3 (ipykernel)",
   "language": "python",
   "name": "python3"
  },
  "language_info": {
   "codemirror_mode": {
    "name": "ipython",
    "version": 3
   },
   "file_extension": ".py",
   "mimetype": "text/x-python",
   "name": "python",
   "nbconvert_exporter": "python",
   "pygments_lexer": "ipython3",
   "version": "3.9.12"
  }
 },
 "nbformat": 4,
 "nbformat_minor": 5
}

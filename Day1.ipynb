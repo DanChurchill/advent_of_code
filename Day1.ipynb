{
 "cells": [
  {
   "cell_type": "markdown",
   "id": "41f69a9a",
   "metadata": {},
   "source": [
    "# Advent of Code Day 1"
   ]
  },
  {
   "cell_type": "markdown",
   "id": "d8323ed2",
   "metadata": {},
   "source": [
    "--- Day 1: Calorie Counting ---\n",
    "\n",
    "Santa's reindeer typically eat regular reindeer food, but they need a lot of magical energy to deliver presents on Christmas. For that, their favorite snack is a special type of star fruit that only grows deep in the jungle. The Elves have brought you on their annual expedition to the grove where the fruit grows.\n",
    "\n",
    "To supply enough magical energy, the expedition needs to retrieve a minimum of fifty stars by December 25th. Although the Elves assure you that the grove has plenty of fruit, you decide to grab any fruit you see along the way, just in case.\n",
    "\n",
    "Collect stars by solving puzzles. Two puzzles will be made available on each day in the Advent calendar; the second puzzle is unlocked when you complete the first. Each puzzle grants one star. Good luck!\n",
    "\n",
    "The jungle must be too overgrown and difficult to navigate in vehicles or access from the air; the Elves' expedition traditionally goes on foot. As your boats approach land, the Elves begin taking inventory of their supplies. One important consideration is food - in particular, the number of Calories each Elf is carrying (your puzzle input).\n",
    "\n",
    "The Elves take turns writing down the number of Calories contained by the various meals, snacks, rations, etc. that they've brought with them, one item per line. Each Elf separates their own inventory from the previous Elf's inventory (if any) by a blank line.\n",
    "\n",
    "For example, suppose the Elves finish writing their items' Calories and end up with the following list:\n",
    "\n",
    "    1000\n",
    "    2000\n",
    "    3000\n",
    "\n",
    "    4000\n",
    "\n",
    "    5000\n",
    "    6000\n",
    "\n",
    "    7000\n",
    "    8000\n",
    "    9000\n",
    "\n",
    "    10000\n",
    "    \n",
    "This list represents the Calories of the food carried by five Elves:\n",
    "\n",
    "- The first Elf is carrying food with 1000, 2000, and 3000 Calories, a total of 6000 Calories.\n",
    "- The second Elf is carrying one food item with 4000 Calories.\n",
    "- The third Elf is carrying food with 5000 and 6000 Calories, a total of 11000 Calories.\n",
    "- The fourth Elf is carrying food with 7000, 8000, and 9000 Calories, a total of 24000 Calories.\n",
    "- The fifth Elf is carrying one food item with 10000 Calories.\n",
    "\n",
    "In case the Elves get hungry and need extra snacks, they need to know which Elf to ask: they'd like to know how many Calories are being carried by the Elf carrying the most Calories. In the example above, this is 24000 (carried by the fourth Elf).\n",
    "\n",
    "Find the Elf carrying the most Calories. How many total Calories is that Elf carrying?"
   ]
  },
  {
   "cell_type": "code",
   "execution_count": 2,
   "id": "bab4f4cd",
   "metadata": {},
   "outputs": [],
   "source": [
    "#Open file\n",
    "file = open('day1input.txt', 'r')"
   ]
  },
  {
   "cell_type": "code",
   "execution_count": 3,
   "id": "5ebd1d02",
   "metadata": {},
   "outputs": [],
   "source": [
    "#get lines\n",
    "lines = file.readlines()"
   ]
  },
  {
   "cell_type": "code",
   "execution_count": 12,
   "id": "4491d3c9",
   "metadata": {},
   "outputs": [
    {
     "data": {
      "text/plain": [
       "['6471\\n',\n",
       " '1935\\n',\n",
       " '1793\\n',\n",
       " '3843\\n',\n",
       " '6059\\n',\n",
       " '6736\\n',\n",
       " '6101\\n',\n",
       " '3133\\n',\n",
       " '6861\\n',\n",
       " '1330\\n',\n",
       " '1962\\n',\n",
       " '5538\\n',\n",
       " '6760\\n',\n",
       " '\\n',\n",
       " '5212\\n',\n",
       " '2842\\n',\n",
       " '3684\\n',\n",
       " '6198\\n',\n",
       " '6198\\n',\n",
       " '3440\\n']"
      ]
     },
     "execution_count": 12,
     "metadata": {},
     "output_type": "execute_result"
    }
   ],
   "source": [
    "#look at first few lines\n",
    "lines[:20]"
   ]
  },
  {
   "cell_type": "code",
   "execution_count": 13,
   "id": "a4a1b048",
   "metadata": {},
   "outputs": [
    {
     "name": "stdout",
     "output_type": "stream",
     "text": [
      "The solution to part 1 is:  70698\n"
     ]
    }
   ],
   "source": [
    "max_cals, cals = 0, 0\n",
    "\n",
    "for line in lines:\n",
    "    # reset total for new elf\n",
    "    if line == '\\n':\n",
    "        cals = 0\n",
    "    else:\n",
    "        cals += int(line.strip())\n",
    "        \n",
    "        if cals > max_cals:\n",
    "            max_cals = cals\n",
    "print('The solution to part 1 is: ', max_cals)"
   ]
  },
  {
   "cell_type": "markdown",
   "id": "44d9d8ac",
   "metadata": {},
   "source": [
    "--- Part Two ---\n",
    "\n",
    "By the time you calculate the answer to the Elves' question, they've already realized that the Elf carrying the most Calories of food might eventually run out of snacks.\n",
    "\n",
    "To avoid this unacceptable situation, the Elves would instead like to know the total Calories carried by the top three Elves carrying the most Calories. That way, even if one of those Elves runs out of snacks, they still have two backups.\n",
    "\n",
    "In the example above, the top three Elves are the fourth Elf (with 24000 Calories), then the third Elf (with 11000 Calories), then the fifth Elf (with 10000 Calories). The sum of the Calories carried by these three elves is 45000.\n",
    "\n",
    "Find the top three Elves carrying the most Calories. How many Calories are those Elves carrying in total?"
   ]
  },
  {
   "cell_type": "code",
   "execution_count": 18,
   "id": "f7608b2b",
   "metadata": {},
   "outputs": [
    {
     "name": "stdout",
     "output_type": "stream",
     "text": [
      "The solution to part 2 is:  206643\n"
     ]
    }
   ],
   "source": [
    "# This time create a list of the calorie counts for each elf\n",
    "max_cals = []\n",
    "cals = 0\n",
    "\n",
    "for line in lines:\n",
    "    if line == '\\n':\n",
    "        max_cals.append(cals)\n",
    "        cals = 0\n",
    "    else:\n",
    "        cals += int(line.strip())\n",
    "\n",
    "# Sort the list, and sum the last 3 (highest) totals\n",
    "max_cals.sort()        \n",
    "print('The solution to part 2 is: ', sum(max_cals[-3:]))"
   ]
  },
  {
   "cell_type": "code",
   "execution_count": null,
   "id": "e048c317",
   "metadata": {},
   "outputs": [],
   "source": []
  }
 ],
 "metadata": {
  "kernelspec": {
   "display_name": "Python 3 (ipykernel)",
   "language": "python",
   "name": "python3"
  },
  "language_info": {
   "codemirror_mode": {
    "name": "ipython",
    "version": 3
   },
   "file_extension": ".py",
   "mimetype": "text/x-python",
   "name": "python",
   "nbconvert_exporter": "python",
   "pygments_lexer": "ipython3",
   "version": "3.9.12"
  }
 },
 "nbformat": 4,
 "nbformat_minor": 5
}
